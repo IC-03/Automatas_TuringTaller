{
  "nbformat": 4,
  "nbformat_minor": 0,
  "metadata": {
    "colab": {
      "provenance": [],
      "collapsed_sections": [],
      "authorship_tag": "ABX9TyOferLqZa0NAYHcwvsRQtR9",
      "include_colab_link": true
    },
    "kernelspec": {
      "name": "python3",
      "display_name": "Python 3"
    },
    "language_info": {
      "name": "python"
    }
  },
  "cells": [
    {
      "cell_type": "markdown",
      "metadata": {
        "id": "view-in-github",
        "colab_type": "text"
      },
      "source": [
        "<a href=\"https://colab.research.google.com/github/IC-03/Automatas_TuringTaller/blob/main/Ejercicio2_Turing.ipynb\" target=\"_parent\"><img src=\"https://colab.research.google.com/assets/colab-badge.svg\" alt=\"Open In Colab\"/></a>"
      ]
    },
    {
      "cell_type": "markdown",
      "source": [
        "Para cada uno de los siguientes ejercicios escriba, en un notebook de Google Colab, un programa que use una máquina de Turing que reconozca el lenguaje indicado. En cada caso el programa debe leer como entradas un número entero positivo n y, posteriormente, una lista compuesta por n\n",
        "palabras y para cada una de ellas debe dar como salida si la palabra pertenece o no al lenguaje reconocido por la máquina de Turing.\n",
        "\n",
        "2. Sobre el alfabeto $\\Sigma = \\{ a, b \\}$ el lenguaje de las palabras $w$ tal que $|w|$ es múltiplo de cuatro.\n",
        "\n",
        "Tabla de  transiciones:\n"
      ],
      "metadata": {
        "id": "kakdBV8DI7R2"
      }
    },
    {
      "cell_type": "code",
      "execution_count": null,
      "metadata": {
        "id": "bpy24upjDm9f"
      },
      "outputs": [],
      "source": [
        "#Intstalamos la librería\n",
        "!pip install automata-lib"
      ]
    },
    {
      "cell_type": "code",
      "source": [
        "#La máquina de Turing\n",
        "from automata.tm.dtm import DTM\n",
        "dtm = DTM(\n",
        "    states={'q0', 'q1', 'q2', 'q3', 'q4'},\n",
        "    input_symbols={'a', 'b'},\n",
        "    tape_symbols={'a', 'b', '.'},\n",
        "    transitions={\n",
        "        'q0': {\n",
        "            'a': ('q1', 'a', 'R'),\n",
        "            'b': ('q1', 'b', 'R'),\n",
        "            '.': ('q4', '.', 'R')\n",
        "        },\n",
        "        'q1': {\n",
        "            'a': ('q2', 'a', 'R'),\n",
        "            'b': ('q2', 'b', 'R')\n",
        "        },\n",
        "        'q2': {\n",
        "            'a': ('q3', 'a', 'R'),\n",
        "            'b': ('q3', 'b', 'R')\n",
        "        },\n",
        "        'q3': {\n",
        "            'a': ('q0', 'a', 'R'),\n",
        "            'b': ('q0', 'b', 'R')\n",
        "        },\n",
        "    },\n",
        "    initial_state='q0',\n",
        "    blank_symbol='.',\n",
        "    final_states={'q4'}\n",
        ")"
      ],
      "metadata": {
        "id": "xNwwJwxtNBpc"
      },
      "execution_count": null,
      "outputs": []
    },
    {
      "cell_type": "code",
      "source": [
        "#La lista de palabras a probar por la máquina\n",
        "Palabra = input(\"Ingrese una palabra, por favor: \")\n",
        "if dtm.accepts_input(Palabra):\n",
        "  print('La palabra es aceptada :D')\n",
        "else:\n",
        "  print('La palabra es rechazada :(')"
      ],
      "metadata": {
        "id": "lzgoDjB4NDkx",
        "colab": {
          "base_uri": "https://localhost:8080/"
        },
        "outputId": "8726006b-cb04-4fe4-8fb5-92954a7da6fb"
      },
      "execution_count": null,
      "outputs": [
        {
          "output_type": "stream",
          "name": "stdout",
          "text": [
            "Ingrese una palabra, por favor: bababababababa\n",
            "Debe haber algo mal o la palabra es rechazada por el automata jaja\n"
          ]
        }
      ]
    },
    {
      "cell_type": "code",
      "source": [],
      "metadata": {
        "id": "dUUK91RA6NLQ"
      },
      "execution_count": null,
      "outputs": []
    }
  ]
}