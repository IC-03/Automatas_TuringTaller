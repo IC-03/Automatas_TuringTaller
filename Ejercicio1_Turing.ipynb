{
  "nbformat": 4,
  "nbformat_minor": 0,
  "metadata": {
    "colab": {
      "provenance": [],
      "authorship_tag": "ABX9TyOU6dUFpaPWUqR+8M8TdupC",
      "include_colab_link": true
    },
    "kernelspec": {
      "name": "python3",
      "display_name": "Python 3"
    },
    "language_info": {
      "name": "python"
    }
  },
  "cells": [
    {
      "cell_type": "markdown",
      "metadata": {
        "id": "view-in-github",
        "colab_type": "text"
      },
      "source": [
        "<a href=\"https://colab.research.google.com/github/IC-03/Automatas_TuringTaller/blob/main/Ejercicio1_Turing.ipynb\" target=\"_parent\"><img src=\"https://colab.research.google.com/assets/colab-badge.svg\" alt=\"Open In Colab\"/></a>"
      ]
    },
    {
      "cell_type": "markdown",
      "source": [
        "Para cada uno de los siguientes ejercicios escriba, en un notebook de Google Colab, un programa que use una máquina de Turing que reconozca el lenguaje indicado. En cada caso el programa debe leer como entradas un número entero positivo n y, posteriormente, una lista compuesta por n\n",
        "palabras y para cada una de ellas debe dar como salida si la palabra pertenece o no al lenguaje reconocido por la máquina de Turing.\n",
        "\n",
        "1. Sobre el alfabeto $\\Sigma = \\{ a, b, c\\}$ el lenguaje formado por las palabras de la forma $a^nb^nc^n$ para $ n > 0$ \n",
        "\n",
        "Tabla de  transiciones:"
      ],
      "metadata": {
        "id": "I9p8l8m0JC2k"
      }
    },
    {
      "cell_type": "code",
      "execution_count": 31,
      "metadata": {
        "id": "1kVu1zadBsYS",
        "colab": {
          "base_uri": "https://localhost:8080/"
        },
        "outputId": "b6ddc114-6bb2-4149-dec2-30529e1e1b1a"
      },
      "outputs": [
        {
          "output_type": "stream",
          "name": "stdout",
          "text": [
            "Looking in indexes: https://pypi.org/simple, https://us-python.pkg.dev/colab-wheels/public/simple/\n",
            "Requirement already satisfied: automata-lib in /usr/local/lib/python3.7/dist-packages (6.0.2)\n",
            "Requirement already satisfied: networkx>=2.6.2 in /usr/local/lib/python3.7/dist-packages (from automata-lib) (2.6.3)\n",
            "Requirement already satisfied: pydot>=1.4.2 in /usr/local/lib/python3.7/dist-packages (from automata-lib) (1.4.2)\n",
            "Requirement already satisfied: pyparsing>=2.1.4 in /usr/local/lib/python3.7/dist-packages (from pydot>=1.4.2->automata-lib) (3.0.9)\n"
          ]
        }
      ],
      "source": [
        "#Instalamos la librería\n",
        "!pip install automata-lib"
      ]
    },
    {
      "cell_type": "code",
      "source": [
        "#La máquina de Turing\n",
        "from automata.tm.dtm import DTM\n",
        "dtm = DTM(\n",
        "    states={'q0', 'q1', 'q2', 'q3', 'q4','q5'},\n",
        "    input_symbols={'a', 'b', 'c'},\n",
        "    tape_symbols={'a', 'b', 'c', 'A', 'B', 'C', '.'},\n",
        "    transitions={\n",
        "        'q0': {\n",
        "            'a': ('q1', 'A', 'R'),\n",
        "            'B': ('q4', 'B', 'R'),\n",
        "            '.': ('q5', '.', 'R')\n",
        "        },\n",
        "        'q1': {\n",
        "            'a': ('q1', 'a', 'R'),\n",
        "            'b': ('q2', 'B', 'R'),\n",
        "            'B': ('q1', 'B', 'R')\n",
        "        },\n",
        "        'q2': {\n",
        "            'b': ('q2', 'b', 'R'),\n",
        "            'c': ('q3', 'C', 'L'),\n",
        "            'C': ('q2', 'C', 'R')\n",
        "        },\n",
        "        'q3': {\n",
        "            'a': ('q3', 'a', 'L'),\n",
        "            'b': ('q3', 'b', 'L'),\n",
        "            'A': ('q0', 'A', 'R'),\n",
        "            'B': ('q3', 'B', 'L'),\n",
        "            'C': ('q3', 'C', 'L')\n",
        "        },\n",
        "        'q4': {\n",
        "            'B': ('q4', 'B', 'R'),\n",
        "            'C': ('q4', 'C', 'R'),\n",
        "            '.': ('q5', '.', 'R')\n",
        "        },\n",
        "    },\n",
        "    initial_state='q0',\n",
        "    blank_symbol='.',\n",
        "    final_states={'q5'}\n",
        ")"
      ],
      "metadata": {
        "id": "lJOurTkLM28n"
      },
      "execution_count": 32,
      "outputs": []
    },
    {
      "cell_type": "code",
      "source": [
        "#Para probar la máquina\n",
        "Palabra = input(\"Ingrese una palabra, por favor: \")\n",
        "if dtm.accepts_input(Palabra):\n",
        "  print('La palabra es aceptada!')\n",
        "else:\n",
        "  print('Debe haber algo mal o la palabra es rechazada por el automata jaja')"
      ],
      "metadata": {
        "id": "1pQRQ6SNMpc7",
        "colab": {
          "base_uri": "https://localhost:8080/"
        },
        "outputId": "b341e340-4521-4216-93fc-3d1ee341d622"
      },
      "execution_count": 33,
      "outputs": [
        {
          "output_type": "stream",
          "name": "stdout",
          "text": [
            "Ingrese una palabra, por favor: aabbcc\n",
            "La palabra es aceptada!\n"
          ]
        }
      ]
    },
    {
      "cell_type": "code",
      "source": [
        "#Lista de palabras a probar por la máquina"
      ],
      "metadata": {
        "id": "IfBiX5-UMwrq"
      },
      "execution_count": 34,
      "outputs": []
    }
  ]
}